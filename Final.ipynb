{
 "cells": [
  {
   "cell_type": "markdown",
   "id": "ff2727e7-6fae-4d1d-8cdc-7ac9adfcd566",
   "metadata": {},
   "source": [
    "## DSTA 5304 Final\n",
    "\n",
    "The Dataset I have picked for the final project is a grocery prices dataset from [Kaggle](https://www.kaggle.com/datasets/timurmaksutov/real-swiss-grocery-prices) \n",
    "\n",
    "The dimensions of this dataset isn't very large or complex, it only consists of 3 columns the item, price and date of purchase.\n",
    "\n",
    "The objective of this analysis is to explore how factors such as seasonality influence grocery prices. By leveraging data visualizations, I aim to identify potential periodic trends in the pricing of various products. Understanding these seasonal patterns can help inform smarter purchasing decisions based on the time of year. \n",
    "\n",
    "To achieve this, I will visualize the prices of specific grocery item (particularly produce) over time to uncover any recurring trends within the data. A variety of visualization techniques will be tested to determine which formats most effectively communicate the insights.\n",
    "\n",
    "The selected tool to create visuals for this dataset is powerBI, the underlying file will be included and can alsobe found in [Github](https://github.com/diyanxu/DSTA-5304)\n",
    "\n",
    "If Links and Images arent loading the Github link is the following https://github.com/diyanxu/DSTA-5304"
   ]
  },
  {
   "cell_type": "markdown",
   "id": "43b59566-14f8-4605-888c-f7cc55e0fbe9",
   "metadata": {},
   "source": [
    "First I will plot out a basic line plot to see if any trends are visible that I can focus in on."
   ]
  },
  {
   "cell_type": "markdown",
   "id": "617c2b88-6e24-49b0-aaf2-aa0b8fdc5614",
   "metadata": {},
   "source": [
    "![first_plot](img/first_plot.png)"
   ]
  },
  {
   "cell_type": "markdown",
   "id": "dbfdaa9e-a151-4e08-bc7c-6c581c6d275e",
   "metadata": {},
   "source": [
    "The initial line plot is way too messy and doesn't include a lot of insight into the information. It does convay that certian items have a static price which is why I created a plot focused mainly on the produce items."
   ]
  },
  {
   "cell_type": "markdown",
   "id": "36709a05-8975-445d-b39f-d5c6d559369e",
   "metadata": {},
   "source": [
    "![second_plot](img/second_plot.png)"
   ]
  },
  {
   "cell_type": "markdown",
   "id": "9d21fd55-54de-49e5-b36f-a71361875a17",
   "metadata": {},
   "source": [
    "Looking over the filtered data plot, it seems a line plot is still quite messy, it's still a little hard to determine any trends. Rather than display all data, I decided to see if taking the average price per month on produce and it produced a much nicer plot.\n"
   ]
  },
  {
   "cell_type": "markdown",
   "id": "41e2f1d7-c684-449c-98ef-8a8229552c08",
   "metadata": {},
   "source": [
    "![third_plot](img/third_plot.png)"
   ]
  },
  {
   "cell_type": "markdown",
   "id": "eee76418-8a00-4e51-b1df-91be75b43b5b",
   "metadata": {},
   "source": [
    "Now that the data can be seen with trend lines connecting each, The last item I wanted to add was a filter to select between time ranges and specific products to narrow down detials."
   ]
  },
  {
   "cell_type": "markdown",
   "id": "5a916115-cc9e-42d6-bc5f-96e7a85e9062",
   "metadata": {},
   "source": [
    "![fourth_plot](img/fourth_plot.png)"
   ]
  },
  {
   "cell_type": "markdown",
   "id": "8c5c3baf-d0d0-49ca-9a43-105e4bcfce51",
   "metadata": {},
   "source": [
    "##### Key elements\n",
    "\n",
    "Some of the key elements of this design are the following\n",
    "\n",
    "    - Using average prices per month as it would result in a more accurate representaion of the price of the product as sales on items could change the daily price\n",
    "    - Adding filters to allow for users to narrow down exactly which products to look at to determine if seasonality affects the price which could impact their purchasing decisions"
   ]
  },
  {
   "cell_type": "markdown",
   "id": "a6d79c19-9cf3-4401-8661-7288bf778be2",
   "metadata": {},
   "source": [
    "### Discussions\n",
    "\n",
    "To Evalulate the performance of these plots on if the convey the information highlighted I had members of my immediate family and friend group. The following are summarized thoughts and feedback after a semi structured interview.\n",
    "\n",
    "    - Mom (Main Purchaser of Groceries) \n",
    "        - Already knows that seasonality on produce has some form of impact on prices\n",
    "        - Having a visualization tool to see the change could still be help in making decisions of which produce to purchase based on time of year\n",
    "    - Friend (lives alone)\n",
    "        - Living alone means paying a lot of attention to grocery prices and trying to get the best deals\n",
    "        - Having a visual that shows how much on average products should cost makes spotting deals easier\n",
    "    - Friend (lives a home)\n",
    "        - Doesn't usually do the grocery shopping so they aren't famaliar with what products usually cost\n",
    "        - Having a visual on pricies might affect how they shop\n",
    "    "
   ]
  },
  {
   "cell_type": "markdown",
   "id": "03b2d46c-f4b0-44d7-8fc6-3b296e5616dc",
   "metadata": {},
   "source": [
    "## Findings and next steps\n",
    "\n",
    "Overall, the visuals effectively conveyed the general price trends to users and stakeholders. However, a consistent piece of feedback was that the chart appeared somewhat plain and cluttered, making it difficult to distinguish dates or seasons without hovering or adjusting filters.\n",
    "\n",
    "One key point I would look into for further refinement would be to add background shading to help indicate seasons, this might help better visualize the seasonality of certian produce e.g. peppers are usually cheaper in the summer and tends to go up in price in spring. Another useful enhancement would be to normalize the prices. This could help highlight the relative volatility of each item, making it easier for users who want to buy in bulk to identify when prices are unusually high or low."
   ]
  }
 ],
 "metadata": {
  "kernelspec": {
   "display_name": "Python 3 (ipykernel)",
   "language": "python",
   "name": "python3"
  },
  "language_info": {
   "codemirror_mode": {
    "name": "ipython",
    "version": 3
   },
   "file_extension": ".py",
   "mimetype": "text/x-python",
   "name": "python",
   "nbconvert_exporter": "python",
   "pygments_lexer": "ipython3",
   "version": "3.12.4"
  }
 },
 "nbformat": 4,
 "nbformat_minor": 5
}
